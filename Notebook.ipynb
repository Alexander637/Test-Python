{
  "cells": [
    {
      "cell_type": "code",
      "execution_count": null,
      "metadata": {},
      "outputs": [],
      "source": [
        "import plotter\n",
        "from IPython.display import Image, display\n",
        "\n",
        "json_file = 'deviation.json'\n",
        "\n",
        "plotter_instance = plotter.Plotter(json_file)\n",
        "plot_paths = plotter_instance.draw_plots()\n",
        "\n",
        "for path in plot_paths:\n",
        "    display(Image(filename=path))\n"
      ]
    }
  ],
  "metadata": {
    "kernelspec": {
      "display_name": "Python 3",
      "language": "python",
      "name": "python3"
    },
    "language_info": {
      "codemirror_mode": {
        "name": "ipython",
        "version": 3
      },
      "file_extension": ".py",
      "mimetype": "text/x-python",
      "name": "python",
      "nbconvert_exporter": "python",
      "pygments_lexer": "ipython3",
      "version": "3.7.6"
    }
  },
  "nbformat": 4,
  "nbformat_minor": 4
}
